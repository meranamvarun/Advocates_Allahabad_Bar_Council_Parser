{
 "cells": [
  {
   "cell_type": "code",
   "execution_count": 1,
   "metadata": {
    "collapsed": true
   },
   "outputs": [],
   "source": [
    "link = 'http://www.allahabadhighcourt.in/advocate/generateRollA.jsp'"
   ]
  },
  {
   "cell_type": "code",
   "execution_count": 53,
   "metadata": {},
   "outputs": [],
   "source": [
    "import requests\n",
    "from bs4 import BeautifulSoup\n",
    "import re"
   ]
  },
  {
   "cell_type": "code",
   "execution_count": 10,
   "metadata": {
    "collapsed": true
   },
   "outputs": [],
   "source": [
    "page = "
   ]
  },
  {
   "cell_type": "code",
   "execution_count": 57,
   "metadata": {
    "collapsed": true
   },
   "outputs": [],
   "source": [
    "def get_page(base_page,page_no):\n",
    "    if page_no == 1:\n",
    "        url = base_page\n",
    "    else:\n",
    "        url = base_page+\"?page=\"+str(page_no)\n",
    "        \n",
    "    return requests.get(link)\n",
    "    \n",
    "    \n",
    "    \n",
    "    "
   ]
  },
  {
   "cell_type": "code",
   "execution_count": 58,
   "metadata": {},
   "outputs": [],
   "source": [
    "def get_advocates_names_list(page):\n",
    "    soup = BeautifulSoup(page.text)\n",
    "    data = soup.find_all('b')\n",
    "    advocates = []\n",
    "    for i in range(0,len(data),7):\n",
    "        name = re.findall(r'<br/>.*</b>',str(data[i]))[0][5:][:-4].lower()\n",
    "        advocates.append(name)\n",
    "    return advocates"
   ]
  },
  {
   "cell_type": "code",
   "execution_count": 59,
   "metadata": {},
   "outputs": [],
   "source": [
    "brahmins = 'Mishra,Dikshit,Dubey,Dwivedi,Tiwari,Trivedi,Chaubey,Chaturvedi,Pandey,Vajpayee,Bajpai,Pathak,Upadhyay,Ojha,Goswami,Parashara,Tiwari,Nirmal,Pandit,Bharadwaj,Shukla,Agnihotri,Siritiya,Tote,Pujari,Purohit,Nayapaul'"
   ]
  },
  {
   "cell_type": "code",
   "execution_count": 60,
   "metadata": {
    "collapsed": true
   },
   "outputs": [],
   "source": [
    "brahmins_title_list = brahmins.split(\",\")"
   ]
  },
  {
   "cell_type": "code",
   "execution_count": 61,
   "metadata": {},
   "outputs": [],
   "source": [
    "brahmins_title_list = map(lambda x: x.lower(),brahmins_title_list)"
   ]
  },
  {
   "cell_type": "code",
   "execution_count": 62,
   "metadata": {
    "collapsed": true
   },
   "outputs": [],
   "source": [
    "def get_brahmin_advocate_count(advocates,brahmins_title_list):\n",
    "    count = 0\n",
    "    for advocate in advocates:\n",
    "        for title in brahmins_title_list:\n",
    "            if title in advocate:\n",
    "                count+=1\n",
    "    return (count,len(advocates))"
   ]
  },
  {
   "cell_type": "code",
   "execution_count": 63,
   "metadata": {
    "collapsed": true
   },
   "outputs": [],
   "source": [
    "def main():\n",
    "    badv,total=0,0\n",
    "    for i in range(1,171):\n",
    "        page = get_page(link,i)\n",
    "        advocates = get_advocates_names_list(page)\n",
    "        b,t = get_brahmin_advocate_count(advocates,brahmins_title_list)\n",
    "        badv+=b\n",
    "        total+=t\n",
    "        \n",
    "    return (badv,total)\n",
    "        \n",
    "        \n",
    "        "
   ]
  },
  {
   "cell_type": "code",
   "execution_count": 64,
   "metadata": {},
   "outputs": [
    {
     "data": {
      "text/plain": [
       "(3910, 17000)"
      ]
     },
     "execution_count": 64,
     "metadata": {},
     "output_type": "execute_result"
    }
   ],
   "source": [
    "main()"
   ]
  },
  {
   "cell_type": "code",
   "execution_count": 65,
   "metadata": {
    "collapsed": true
   },
   "outputs": [],
   "source": [
    "page = requests.get('http://www.allahabadhighcourt.in/advocate/adv_roll_lko_21-12-17.pdf')"
   ]
  },
  {
   "cell_type": "code",
   "execution_count": null,
   "metadata": {},
   "outputs": [],
   "source": [
    "page.text[:50]"
   ]
  },
  {
   "cell_type": "code",
   "execution_count": 70,
   "metadata": {},
   "outputs": [
    {
     "name": "stdout",
     "output_type": "stream",
     "text": [
      "23.0\n"
     ]
    }
   ],
   "source": []
  },
  {
   "cell_type": "code",
   "execution_count": null,
   "metadata": {
    "collapsed": true
   },
   "outputs": [],
   "source": []
  }
 ],
 "metadata": {
  "kernelspec": {
   "display_name": "Python 2",
   "language": "python",
   "name": "python2"
  },
  "language_info": {
   "codemirror_mode": {
    "name": "ipython",
    "version": 2
   },
   "file_extension": ".py",
   "mimetype": "text/x-python",
   "name": "python",
   "nbconvert_exporter": "python",
   "pygments_lexer": "ipython2",
   "version": "2.7.14"
  }
 },
 "nbformat": 4,
 "nbformat_minor": 2
}
